{
 "cells": [
  {
   "cell_type": "markdown",
   "id": "4a0856e9",
   "metadata": {},
   "source": [
    "Given an array nums of n integers, return an array of all the unique quadruplets [nums[a], nums[b], nums[c], nums[d]] such that:\n",
    "\n",
    "   a) 0 <= a, b, c, d < n\n",
    "   b) a, b, c, and d are distinct.\n",
    "   c) nums[a] + nums[b] + nums[c] + nums[d] == target\n"
   ]
  },
  {
   "cell_type": "code",
   "execution_count": 1,
   "id": "67651b1a",
   "metadata": {},
   "outputs": [],
   "source": [
    "\n",
    "def arrSum(nums, target):\n",
    "    n = len(nums)\n",
    "    seen = set()\n",
    "    ans = set()\n",
    "    for i in range(n):\n",
    "        for j in range(i+1, n):\n",
    "            for k in range(j+1, n):\n",
    "                lastNumber = target - nums[i] - nums[j] - nums[k]\n",
    "                if lastNumber in seen:\n",
    "                    arr = sorted([nums[i], nums[j], nums[k], lastNumber])\n",
    "                    ans.add((arr[0], arr[1], arr[2], arr[3]))\n",
    "        seen.add(nums[i])\n",
    "        \n",
    "    if len(ans)==0:\n",
    "        print(\"No such combination\")\n",
    "        return\n",
    "    return ans"
   ]
  },
  {
   "cell_type": "code",
   "execution_count": 2,
   "id": "75e5e6d3",
   "metadata": {},
   "outputs": [
    {
     "data": {
      "text/plain": [
       "{(-2, 0, 1, 1)}"
      ]
     },
     "execution_count": 2,
     "metadata": {},
     "output_type": "execute_result"
    }
   ],
   "source": [
    "arrSum([1,1,-1,0,-2,1],0)"
   ]
  },
  {
   "cell_type": "code",
   "execution_count": 3,
   "id": "92e9b708",
   "metadata": {},
   "outputs": [
    {
     "data": {
      "text/plain": [
       "{(-2, 1, 1, 2), (-1, 0, 1, 2)}"
      ]
     },
     "execution_count": 3,
     "metadata": {},
     "output_type": "execute_result"
    }
   ],
   "source": [
    "arrSum([1,2,-1,0,-2,1],2)"
   ]
  },
  {
   "cell_type": "code",
   "execution_count": 4,
   "id": "e53f5680",
   "metadata": {},
   "outputs": [
    {
     "data": {
      "text/plain": [
       "{(-2, 1, 1, 5)}"
      ]
     },
     "execution_count": 4,
     "metadata": {},
     "output_type": "execute_result"
    }
   ],
   "source": [
    "arrSum([1,5,-2,0,-9,1],5)"
   ]
  },
  {
   "cell_type": "code",
   "execution_count": 5,
   "id": "36dbd0a3",
   "metadata": {},
   "outputs": [
    {
     "name": "stdout",
     "output_type": "stream",
     "text": [
      "No such combination\n"
     ]
    }
   ],
   "source": [
    "arrSum([1,5,-2,0,-9,1],10)"
   ]
  },
  {
   "cell_type": "code",
   "execution_count": 7,
   "id": "806c727e",
   "metadata": {},
   "outputs": [
    {
     "data": {
      "text/plain": [
       "{(1, 1, 1, 1)}"
      ]
     },
     "execution_count": 7,
     "metadata": {},
     "output_type": "execute_result"
    }
   ],
   "source": [
    "arrSum([1,1,1,1,1,1],4)"
   ]
  },
  {
   "cell_type": "code",
   "execution_count": null,
   "id": "19730840",
   "metadata": {},
   "outputs": [],
   "source": []
  }
 ],
 "metadata": {
  "kernelspec": {
   "display_name": "Python 3 (ipykernel)",
   "language": "python",
   "name": "python3"
  },
  "language_info": {
   "codemirror_mode": {
    "name": "ipython",
    "version": 3
   },
   "file_extension": ".py",
   "mimetype": "text/x-python",
   "name": "python",
   "nbconvert_exporter": "python",
   "pygments_lexer": "ipython3",
   "version": "3.11.3"
  }
 },
 "nbformat": 4,
 "nbformat_minor": 5
}
