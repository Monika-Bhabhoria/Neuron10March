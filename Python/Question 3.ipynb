{
 "cells": [
  {
   "attachments": {},
   "cell_type": "markdown",
   "id": "7006daef",
   "metadata": {},
   "source": [
    "Mr. Karthiken works in a door mat manufacturing company. One day, he designed a new door mat with the following specifications:\n",
    "\n",
    "             a) Mat size must be N X M. (N is an odd natural number, and M is 3 times N.)\n",
    "              b) The design should have ‘WELCOME’ written in the center.\n",
    "              c) The design pattern should only use |, . and – characters.\n",
    "   Sample Design is given above image, Write a python code for this.\n"
   ]
  },
  {
   "cell_type": "code",
   "execution_count": 1,
   "id": "f52a6f5e",
   "metadata": {},
   "outputs": [],
   "source": [
    "def designMat(n,m):\n",
    "    if m!=n*3:\n",
    "        print(\"Invalid size provided\")\n",
    "        return\n",
    "    \n",
    "    for i in range(1,n,2):\n",
    "        print ('-'*int((m-i*3)/2)+'.|.'*i+'-'*int((m-i*3)/2))  #print first part before text\n",
    "        \n",
    "    print('-'*int((m-7)/2)+'WELCOME'+'-'*int((m-7)/2)) # print text\n",
    "    \n",
    "    for i in range(n-2,-1,-2):\n",
    "        print ('-'*int((m-i*3)/2)+'.|.'*i+'-'*int((m-i*3)/2)) #print second half\n",
    "            "
   ]
  },
  {
   "cell_type": "code",
   "execution_count": 2,
   "id": "ed8d5f60",
   "metadata": {},
   "outputs": [
    {
     "name": "stdout",
     "output_type": "stream",
     "text": [
      "------.|.------\n",
      "---.|..|..|.---\n",
      "----WELCOME----\n",
      "---.|..|..|.---\n",
      "------.|.------\n"
     ]
    }
   ],
   "source": [
    "designMat(5,15)"
   ]
  },
  {
   "cell_type": "code",
   "execution_count": 3,
   "id": "268ba8d2",
   "metadata": {},
   "outputs": [
    {
     "name": "stdout",
     "output_type": "stream",
     "text": [
      "---------.|.---------\n",
      "------.|..|..|.------\n",
      "---.|..|..|..|..|.---\n",
      "-------WELCOME-------\n",
      "---.|..|..|..|..|.---\n",
      "------.|..|..|.------\n",
      "---------.|.---------\n"
     ]
    }
   ],
   "source": [
    "designMat(7,21)"
   ]
  },
  {
   "cell_type": "code",
   "execution_count": 4,
   "id": "945849bf",
   "metadata": {},
   "outputs": [
    {
     "name": "stdout",
     "output_type": "stream",
     "text": [
      "---.|.---\n",
      "-WELCOME-\n",
      "---.|.---\n"
     ]
    }
   ],
   "source": [
    "designMat(3,9)"
   ]
  },
  {
   "cell_type": "code",
   "execution_count": 5,
   "id": "4adb9d90",
   "metadata": {},
   "outputs": [
    {
     "name": "stdout",
     "output_type": "stream",
     "text": [
      "WELCOME\n"
     ]
    }
   ],
   "source": [
    "designMat(1,3)"
   ]
  },
  {
   "cell_type": "code",
   "execution_count": 6,
   "id": "9322d8c8",
   "metadata": {},
   "outputs": [
    {
     "name": "stdout",
     "output_type": "stream",
     "text": [
      "Invalid size provided\n"
     ]
    }
   ],
   "source": [
    "designMat(3,10)"
   ]
  },
  {
   "cell_type": "code",
   "execution_count": null,
   "id": "fe56e3e1",
   "metadata": {},
   "outputs": [],
   "source": []
  }
 ],
 "metadata": {
  "kernelspec": {
   "display_name": "Python 3 (ipykernel)",
   "language": "python",
   "name": "python3"
  },
  "language_info": {
   "codemirror_mode": {
    "name": "ipython",
    "version": 3
   },
   "file_extension": ".py",
   "mimetype": "text/x-python",
   "name": "python",
   "nbconvert_exporter": "python",
   "pygments_lexer": "ipython3",
   "version": "3.11.3"
  }
 },
 "nbformat": 4,
 "nbformat_minor": 5
}
