{
 "cells": [
  {
   "cell_type": "markdown",
   "id": "41fae180",
   "metadata": {},
   "source": [
    "You have an input dictionary given,\n",
    "\n",
    "input_dict = {\"abc\":{\"def\":{\"ghi\":{\"jkl\":{\"mno\":{\"pqr\":{\"stu\":{\"vwx\":{\"yz\":\"you are finally here !!!\"}}}}}}}}}\n",
    "\n",
    "Task:  You have to write a Python function that will take this input and print it like that,\n",
    "\n",
    "output = {\"abc\":[\"def\",\"ghi\",\"jkl\",\"mno\",\"pqr\",\"stu\",\"vwx\",\"yz\"],\n",
    " \"def\":[\"ghi\",\"jkl\",\"mno\",\"pqr\",\"stu\",\"vwx\",\"yz\"],\n",
    " \"ghi\":[\"jkl\",\"mno\",\"pqr\",\"stu\",\"vwx\",\"yz\"],\n",
    " \"jkl\":[\"mno\",\"pqr\",\"stu\",\"vwx\",\"yz\"],\n",
    " \"mno\":[\"pqr\",\"stu\",\"vwx\",\"yz\"],\n",
    " \"pqr\":[\"stu\",\"vwx\",\"yz\"],\n",
    " \"stu\":[\"vwx\",\"yz\"],\n",
    " \"vwx\":[\"yz\"],\n",
    " \"yz\":[\"you are finally here !!!\"]}\n"
   ]
  },
  {
   "cell_type": "code",
   "execution_count": 2,
   "id": "27045370",
   "metadata": {},
   "outputs": [
    {
     "data": {
      "text/plain": [
       "{'abc': {'def': {'ghi': {'jkl': {'mno': {'pqr': {'stu': {'vwx': {'yz': 'you are finally here !!!'}}}}}}}}}"
      ]
     },
     "execution_count": 2,
     "metadata": {},
     "output_type": "execute_result"
    }
   ],
   "source": [
    "input_dict = {\"abc\":{\"def\":{\"ghi\":{\"jkl\":{\"mno\":{\"pqr\":{\"stu\":{\"vwx\":{\"yz\":\"you are finally here !!!\"}}}}}}}}}\n",
    "input_dict\n"
   ]
  },
  {
   "cell_type": "code",
   "execution_count": 15,
   "id": "9dbbb921",
   "metadata": {},
   "outputs": [
    {
     "data": {
      "text/plain": [
       "{'jkl': {'mno': {'pqr': {'stu': {'vwx': {'yz': 'you are finally here !!!'}}}}}}"
      ]
     },
     "execution_count": 15,
     "metadata": {},
     "output_type": "execute_result"
    }
   ],
   "source": []
  },
  {
   "cell_type": "code",
   "execution_count": null,
   "id": "75af1d95",
   "metadata": {},
   "outputs": [],
   "source": []
  }
 ],
 "metadata": {
  "kernelspec": {
   "display_name": "Python 3 (ipykernel)",
   "language": "python",
   "name": "python3"
  },
  "language_info": {
   "codemirror_mode": {
    "name": "ipython",
    "version": 3
   },
   "file_extension": ".py",
   "mimetype": "text/x-python",
   "name": "python",
   "nbconvert_exporter": "python",
   "pygments_lexer": "ipython3",
   "version": "3.11.3"
  }
 },
 "nbformat": 4,
 "nbformat_minor": 5
}
