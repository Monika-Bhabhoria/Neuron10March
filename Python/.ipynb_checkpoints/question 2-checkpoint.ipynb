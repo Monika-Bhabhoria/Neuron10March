{
 "cells": [
  {
   "cell_type": "markdown",
   "id": "4dffe0a6",
   "metadata": {},
   "source": [
    "Given an array of length ‘N’, where each element denotes the position of a stall. Now you have ‘N’ stalls and an integer ‘K’ which denotes the number of horses that are mad. To prevent the horses from hurting each other, you need to assign the horses to the stalls, such that the minimum distance between any two of them is as large as possible. Return the largest minimum distance.\n",
    "\n",
    "array: 1,2,4,8,9  &  k=3\n",
    "\n",
    "O/P: 3\n",
    "\n",
    "Explanation: 1st horse at stall 1, 2nd horse at stall 4 and 3rd horse at stall 8\n"
   ]
  },
  {
   "cell_type": "code",
   "execution_count": 1,
   "id": "5688b373",
   "metadata": {},
   "outputs": [],
   "source": [
    "#check if a min distance p is possible to maintain between k cows\n",
    "def possible(arr,p,k):\n",
    "    d=arr[0]\n",
    "    cow_count=1\n",
    "    for i in range(1,len(arr)):\n",
    "        if arr[i]-d>=p:\n",
    "            d=arr[i]\n",
    "            cow_count=cow_count+1\n",
    "        else:\n",
    "            continue\n",
    "    if cow_count>k or cow_count==k:\n",
    "        return True\n",
    "    else:\n",
    "        return False\n",
    "            \n",
    "    \n",
    "# find out largest min distance that can be maintained between cows\n",
    "def minDistance(arr,k):\n",
    "    final_min=-1\n",
    "    last=0\n",
    "    for i in range(len(arr)):\n",
    "        last=max(last,arr[i])\n",
    "    \n",
    "    for i in range(1,last+1):\n",
    "        if possible(arr,i,k):\n",
    "            final_min=i\n",
    "        else:\n",
    "            break\n",
    "    if final_min==-1:\n",
    "        print(f\"Its not possible to accomodate {k} cows in {len(arr)} stalls\")\n",
    "        return\n",
    "    return final_min\n",
    "        "
   ]
  },
  {
   "cell_type": "code",
   "execution_count": 2,
   "id": "2977fe18",
   "metadata": {},
   "outputs": [
    {
     "data": {
      "text/plain": [
       "3"
      ]
     },
     "execution_count": 2,
     "metadata": {},
     "output_type": "execute_result"
    }
   ],
   "source": [
    "minDistance([1,2,4,8,9],3)"
   ]
  },
  {
   "cell_type": "code",
   "execution_count": 3,
   "id": "074616bd",
   "metadata": {},
   "outputs": [
    {
     "name": "stdout",
     "output_type": "stream",
     "text": [
      "Its not possible to accomodate 3 cows in 2 stalls\n"
     ]
    }
   ],
   "source": [
    "minDistance([1,2],3)"
   ]
  },
  {
   "cell_type": "code",
   "execution_count": 4,
   "id": "22b543a0",
   "metadata": {},
   "outputs": [
    {
     "data": {
      "text/plain": [
       "8"
      ]
     },
     "execution_count": 4,
     "metadata": {},
     "output_type": "execute_result"
    }
   ],
   "source": [
    "minDistance([1,2,4,8,9,15,17],3)"
   ]
  },
  {
   "cell_type": "code",
   "execution_count": null,
   "id": "7bcb1cc6",
   "metadata": {},
   "outputs": [],
   "source": []
  }
 ],
 "metadata": {
  "kernelspec": {
   "display_name": "Python 3 (ipykernel)",
   "language": "python",
   "name": "python3"
  },
  "language_info": {
   "codemirror_mode": {
    "name": "ipython",
    "version": 3
   },
   "file_extension": ".py",
   "mimetype": "text/x-python",
   "name": "python",
   "nbconvert_exporter": "python",
   "pygments_lexer": "ipython3",
   "version": "3.11.3"
  }
 },
 "nbformat": 4,
 "nbformat_minor": 5
}
